{
 "cells": [
  {
   "cell_type": "code",
   "execution_count": 2,
   "id": "93a821de-a95e-4513-b5af-977b2c0c3f86",
   "metadata": {},
   "outputs": [],
   "source": [
    "import pandas as pd\n",
    "import numpy as np\n",
    "from sklearn.model_selection import train_test_split\n",
    "from sklearn.preprocessing import StandardScaler\n",
    "from sklearn.decomposition import PCA\n",
    "from sklearn.linear_model import LogisticRegression\n",
    "from sklearn.metrics import confusion_matrix, accuracy_score, classification_report"
   ]
  },
  {
   "cell_type": "code",
   "execution_count": 3,
   "id": "3906d1fb-fb0d-44a3-8247-df1530e8d141",
   "metadata": {},
   "outputs": [],
   "source": [
    "dataset = pd.read_csv('Churn_Prediction_Preprocessed.csv')\n",
    "dataset = pd.get_dummies(dataset, drop_first=True)\n",
    "\n",
    "X = dataset.drop('churn_flag', axis=1)\n",
    "y = dataset['churn_flag']"
   ]
  },
  {
   "cell_type": "code",
   "execution_count": 4,
   "id": "0ff7542f-27ea-4628-866d-8651b274096e",
   "metadata": {},
   "outputs": [],
   "source": [
    "X_train, X_test, y_train, y_test = train_test_split(X, y, test_size=0.2, random_state=0)"
   ]
  },
  {
   "cell_type": "code",
   "execution_count": 5,
   "id": "b63ffc88-8d71-4a25-a3b7-071d2b64ff3b",
   "metadata": {},
   "outputs": [],
   "source": [
    "sc = StandardScaler()\n",
    "X_train = sc.fit_transform(X_train)\n",
    "X_test = sc.transform(X_test)"
   ]
  },
  {
   "cell_type": "code",
   "execution_count": 8,
   "id": "cf78194e-c0cd-4fcc-8291-05606450c574",
   "metadata": {},
   "outputs": [],
   "source": [
    "def evaluate_logistic_regression_pca(n_components):\n",
    "    # Apply PCA\n",
    "    pca = PCA(n_components=n_components)\n",
    "    X_train_pca = pca.fit_transform(X_train)\n",
    "    X_test_pca = pca.transform(X_test)\n",
    "\n",
    "    # Train logistic regression\n",
    "    clf = LogisticRegression(random_state=0)\n",
    "    clf.fit(X_train_pca, y_train)\n",
    "\n",
    "    # Predictions\n",
    "    y_pred = clf.predict(X_test_pca)\n",
    "\n",
    "    # Metrics\n",
    "    acc = accuracy_score(y_test, y_pred)\n",
    "    cm = confusion_matrix(y_test, y_pred)\n",
    "    cr = classification_report(y_test, y_pred)\n",
    "\n",
    "    # Output\n",
    "    print(f\"\\n=== Logistic Regression with PCA (n_components={n_components}) ===\")\n",
    "    print(f\"Accuracy: {acc:.4f}\")\n",
    "    print(\"Confusion Matrix:\")\n",
    "    print(cm)\n",
    "    print(\"Classification Report:\")\n",
    "    print(cr)\n",
    "\n",
    "    return acc"
   ]
  },
  {
   "cell_type": "code",
   "execution_count": 9,
   "id": "4361dc63-06ad-40d7-b17d-c0ceb0f0843a",
   "metadata": {},
   "outputs": [
    {
     "name": "stdout",
     "output_type": "stream",
     "text": [
      "\n",
      "=== Logistic Regression with PCA (n_components=2) ===\n",
      "Accuracy: 0.9240\n",
      "Confusion Matrix:\n",
      "[[924   0]\n",
      " [ 76   0]]\n",
      "Classification Report:\n",
      "              precision    recall  f1-score   support\n",
      "\n",
      "       False       0.92      1.00      0.96       924\n",
      "        True       0.00      0.00      0.00        76\n",
      "\n",
      "    accuracy                           0.92      1000\n",
      "   macro avg       0.46      0.50      0.48      1000\n",
      "weighted avg       0.85      0.92      0.89      1000\n",
      "\n"
     ]
    },
    {
     "name": "stderr",
     "output_type": "stream",
     "text": [
      "C:\\Anaconda\\Lib\\site-packages\\sklearn\\metrics\\_classification.py:1509: UndefinedMetricWarning: Precision is ill-defined and being set to 0.0 in labels with no predicted samples. Use `zero_division` parameter to control this behavior.\n",
      "  _warn_prf(average, modifier, f\"{metric.capitalize()} is\", len(result))\n",
      "C:\\Anaconda\\Lib\\site-packages\\sklearn\\metrics\\_classification.py:1509: UndefinedMetricWarning: Precision is ill-defined and being set to 0.0 in labels with no predicted samples. Use `zero_division` parameter to control this behavior.\n",
      "  _warn_prf(average, modifier, f\"{metric.capitalize()} is\", len(result))\n",
      "C:\\Anaconda\\Lib\\site-packages\\sklearn\\metrics\\_classification.py:1509: UndefinedMetricWarning: Precision is ill-defined and being set to 0.0 in labels with no predicted samples. Use `zero_division` parameter to control this behavior.\n",
      "  _warn_prf(average, modifier, f\"{metric.capitalize()} is\", len(result))\n"
     ]
    }
   ],
   "source": [
    "# Example usage\n",
    "accuracy_logistic_pca_2 = evaluate_logistic_regression_pca(2)"
   ]
  },
  {
   "cell_type": "code",
   "execution_count": 10,
   "id": "9cee1ba8-ecaf-48fe-9ce8-31ecd0bc0fbf",
   "metadata": {},
   "outputs": [
    {
     "name": "stdout",
     "output_type": "stream",
     "text": [
      "\n",
      "=== Logistic Regression with PCA (n_components=1) ===\n",
      "Accuracy: 0.9240\n",
      "Confusion Matrix:\n",
      "[[924   0]\n",
      " [ 76   0]]\n",
      "Classification Report:\n",
      "              precision    recall  f1-score   support\n",
      "\n",
      "       False       0.92      1.00      0.96       924\n",
      "        True       0.00      0.00      0.00        76\n",
      "\n",
      "    accuracy                           0.92      1000\n",
      "   macro avg       0.46      0.50      0.48      1000\n",
      "weighted avg       0.85      0.92      0.89      1000\n",
      "\n"
     ]
    },
    {
     "name": "stderr",
     "output_type": "stream",
     "text": [
      "C:\\Anaconda\\Lib\\site-packages\\sklearn\\metrics\\_classification.py:1509: UndefinedMetricWarning: Precision is ill-defined and being set to 0.0 in labels with no predicted samples. Use `zero_division` parameter to control this behavior.\n",
      "  _warn_prf(average, modifier, f\"{metric.capitalize()} is\", len(result))\n",
      "C:\\Anaconda\\Lib\\site-packages\\sklearn\\metrics\\_classification.py:1509: UndefinedMetricWarning: Precision is ill-defined and being set to 0.0 in labels with no predicted samples. Use `zero_division` parameter to control this behavior.\n",
      "  _warn_prf(average, modifier, f\"{metric.capitalize()} is\", len(result))\n",
      "C:\\Anaconda\\Lib\\site-packages\\sklearn\\metrics\\_classification.py:1509: UndefinedMetricWarning: Precision is ill-defined and being set to 0.0 in labels with no predicted samples. Use `zero_division` parameter to control this behavior.\n",
      "  _warn_prf(average, modifier, f\"{metric.capitalize()} is\", len(result))\n"
     ]
    }
   ],
   "source": [
    "accuracy_logistic_pca_1 = evaluate_logistic_regression_pca(1)"
   ]
  },
  {
   "cell_type": "code",
   "execution_count": null,
   "id": "acfcb615-a3a8-4b60-a6ca-92521c179edc",
   "metadata": {},
   "outputs": [],
   "source": []
  },
  {
   "cell_type": "code",
   "execution_count": 13,
   "id": "857fe926-6561-4008-807b-81b6fe1ae706",
   "metadata": {},
   "outputs": [],
   "source": [
    "from imblearn.over_sampling import SMOTE\n",
    "from sklearn.linear_model import LogisticRegression\n",
    "from sklearn.metrics import confusion_matrix, accuracy_score, classification_report\n",
    "from sklearn.decomposition import PCA\n",
    "\n",
    "def evaluate_logistic_regression_with_smote(n_components):\n",
    "    # Apply PCA\n",
    "    pca = PCA(n_components=n_components)\n",
    "    X_train_pca = pca.fit_transform(X_train)\n",
    "    X_test_pca = pca.transform(X_test)\n",
    "\n",
    "    # Apply SMOTE to training data\n",
    "    smote = SMOTE(random_state=0)\n",
    "    X_train_resampled, y_train_resampled = smote.fit_resample(X_train_pca, y_train)\n",
    "\n",
    "    print(f\"\\nOriginal training set class distribution:\\n{y_train.value_counts()}\")\n",
    "    print(f\"Resampled training set class distribution:\\n{pd.Series(y_train_resampled).value_counts()}\")\n",
    "\n",
    "    # Train Logistic Regression\n",
    "    clf = LogisticRegression(random_state=0)\n",
    "    clf.fit(X_train_resampled, y_train_resampled)\n",
    "\n",
    "    # Predict on test set\n",
    "    y_pred = clf.predict(X_test_pca)\n",
    "\n",
    "    # Evaluate\n",
    "    acc = accuracy_score(y_test, y_pred)\n",
    "    cm = confusion_matrix(y_test, y_pred)\n",
    "    cr = classification_report(y_test, y_pred)\n",
    "\n",
    "    # Print results\n",
    "    print(f\"\\n=== Logistic Regression with SMOTE + PCA (n_components={n_components}) ===\")\n",
    "    print(f\"Accuracy: {acc:.4f}\")\n",
    "    print(\"Confusion Matrix:\")\n",
    "    print(cm)\n",
    "    print(\"Classification Report:\")\n",
    "    print(cr)\n",
    "\n",
    "    return acc\n"
   ]
  },
  {
   "cell_type": "code",
   "execution_count": 14,
   "id": "cfbab15f-1d81-487c-98a1-571e35da2f5f",
   "metadata": {},
   "outputs": [
    {
     "name": "stdout",
     "output_type": "stream",
     "text": [
      "\n",
      "Original training set class distribution:\n",
      "churn_flag\n",
      "False    3590\n",
      "True      410\n",
      "Name: count, dtype: int64\n",
      "Resampled training set class distribution:\n",
      "churn_flag\n",
      "False    3590\n",
      "True     3590\n",
      "Name: count, dtype: int64\n",
      "\n",
      "=== Logistic Regression with SMOTE + PCA (n_components=2) ===\n",
      "Accuracy: 0.4110\n",
      "Confusion Matrix:\n",
      "[[358 566]\n",
      " [ 23  53]]\n",
      "Classification Report:\n",
      "              precision    recall  f1-score   support\n",
      "\n",
      "       False       0.94      0.39      0.55       924\n",
      "        True       0.09      0.70      0.15        76\n",
      "\n",
      "    accuracy                           0.41      1000\n",
      "   macro avg       0.51      0.54      0.35      1000\n",
      "weighted avg       0.87      0.41      0.52      1000\n",
      "\n"
     ]
    }
   ],
   "source": [
    "accuracy_smote = evaluate_logistic_regression_with_smote(n_components=2)\n"
   ]
  },
  {
   "cell_type": "code",
   "execution_count": 15,
   "id": "caeeda0c-8680-44c2-8977-83dbd783734c",
   "metadata": {},
   "outputs": [
    {
     "name": "stdout",
     "output_type": "stream",
     "text": [
      "\n",
      "Original training set class distribution:\n",
      "churn_flag\n",
      "False    3590\n",
      "True      410\n",
      "Name: count, dtype: int64\n",
      "Resampled training set class distribution:\n",
      "churn_flag\n",
      "False    3590\n",
      "True     3590\n",
      "Name: count, dtype: int64\n",
      "\n",
      "=== Logistic Regression with SMOTE + PCA (n_components=3) ===\n",
      "Accuracy: 0.4430\n",
      "Confusion Matrix:\n",
      "[[397 527]\n",
      " [ 30  46]]\n",
      "Classification Report:\n",
      "              precision    recall  f1-score   support\n",
      "\n",
      "       False       0.93      0.43      0.59       924\n",
      "        True       0.08      0.61      0.14        76\n",
      "\n",
      "    accuracy                           0.44      1000\n",
      "   macro avg       0.51      0.52      0.36      1000\n",
      "weighted avg       0.87      0.44      0.55      1000\n",
      "\n"
     ]
    }
   ],
   "source": [
    "accuracy_smote = evaluate_logistic_regression_with_smote(n_components=3)\n"
   ]
  },
  {
   "cell_type": "code",
   "execution_count": 16,
   "id": "88fceb74-71b5-417b-a07b-31d2f84e07eb",
   "metadata": {},
   "outputs": [
    {
     "name": "stdout",
     "output_type": "stream",
     "text": [
      "\n",
      "Original training set class distribution:\n",
      "churn_flag\n",
      "False    3590\n",
      "True      410\n",
      "Name: count, dtype: int64\n",
      "Resampled training set class distribution:\n",
      "churn_flag\n",
      "False    3590\n",
      "True     3590\n",
      "Name: count, dtype: int64\n",
      "\n",
      "=== Logistic Regression with SMOTE + PCA (n_components=4) ===\n",
      "Accuracy: 0.4680\n",
      "Confusion Matrix:\n",
      "[[424 500]\n",
      " [ 32  44]]\n",
      "Classification Report:\n",
      "              precision    recall  f1-score   support\n",
      "\n",
      "       False       0.93      0.46      0.61       924\n",
      "        True       0.08      0.58      0.14        76\n",
      "\n",
      "    accuracy                           0.47      1000\n",
      "   macro avg       0.51      0.52      0.38      1000\n",
      "weighted avg       0.87      0.47      0.58      1000\n",
      "\n"
     ]
    }
   ],
   "source": [
    "accuracy_smote = evaluate_logistic_regression_with_smote(n_components=4)\n"
   ]
  },
  {
   "cell_type": "code",
   "execution_count": 17,
   "id": "9b3ce37b-5dae-4027-ae86-71516added62",
   "metadata": {},
   "outputs": [
    {
     "name": "stdout",
     "output_type": "stream",
     "text": [
      "\n",
      "Original training set class distribution:\n",
      "churn_flag\n",
      "False    3590\n",
      "True      410\n",
      "Name: count, dtype: int64\n",
      "Resampled training set class distribution:\n",
      "churn_flag\n",
      "False    3590\n",
      "True     3590\n",
      "Name: count, dtype: int64\n",
      "\n",
      "=== Logistic Regression with SMOTE + PCA (n_components=5) ===\n",
      "Accuracy: 0.5080\n",
      "Confusion Matrix:\n",
      "[[475 449]\n",
      " [ 43  33]]\n",
      "Classification Report:\n",
      "              precision    recall  f1-score   support\n",
      "\n",
      "       False       0.92      0.51      0.66       924\n",
      "        True       0.07      0.43      0.12        76\n",
      "\n",
      "    accuracy                           0.51      1000\n",
      "   macro avg       0.49      0.47      0.39      1000\n",
      "weighted avg       0.85      0.51      0.62      1000\n",
      "\n"
     ]
    }
   ],
   "source": [
    "accuracy_smote = evaluate_logistic_regression_with_smote(n_components=5)\n"
   ]
  },
  {
   "cell_type": "code",
   "execution_count": 20,
   "id": "37745609-56a9-4692-a498-c54d2d9e1473",
   "metadata": {},
   "outputs": [
    {
     "name": "stdout",
     "output_type": "stream",
     "text": [
      "\n",
      "Original training set class distribution:\n",
      "churn_flag\n",
      "False    3590\n",
      "True      410\n",
      "Name: count, dtype: int64\n",
      "Resampled training set class distribution:\n",
      "churn_flag\n",
      "False    3590\n",
      "True     3590\n",
      "Name: count, dtype: int64\n",
      "\n",
      "=== Logistic Regression with SMOTE + PCA (n_components=6) ===\n",
      "Accuracy: 0.5120\n",
      "Confusion Matrix:\n",
      "[[477 447]\n",
      " [ 41  35]]\n",
      "Classification Report:\n",
      "              precision    recall  f1-score   support\n",
      "\n",
      "       False       0.92      0.52      0.66       924\n",
      "        True       0.07      0.46      0.13        76\n",
      "\n",
      "    accuracy                           0.51      1000\n",
      "   macro avg       0.50      0.49      0.39      1000\n",
      "weighted avg       0.86      0.51      0.62      1000\n",
      "\n"
     ]
    }
   ],
   "source": [
    "accuracy_smote = evaluate_logistic_regression_with_smote(n_components=6)"
   ]
  },
  {
   "cell_type": "code",
   "execution_count": null,
   "id": "7710eb85-2b03-41dc-ba22-bf63a0fd2c3a",
   "metadata": {},
   "outputs": [],
   "source": []
  }
 ],
 "metadata": {
  "kernelspec": {
   "display_name": "Python 3 (ipykernel)",
   "language": "python",
   "name": "python3"
  },
  "language_info": {
   "codemirror_mode": {
    "name": "ipython",
    "version": 3
   },
   "file_extension": ".py",
   "mimetype": "text/x-python",
   "name": "python",
   "nbconvert_exporter": "python",
   "pygments_lexer": "ipython3",
   "version": "3.12.4"
  }
 },
 "nbformat": 4,
 "nbformat_minor": 5
}
