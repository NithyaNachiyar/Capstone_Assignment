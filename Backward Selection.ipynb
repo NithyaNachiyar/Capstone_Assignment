{
 "cells": [
  {
   "cell_type": "code",
   "execution_count": null,
   "id": "b62dfa30-3cfb-4567-b14c-2719b1da5c51",
   "metadata": {},
   "outputs": [],
   "source": [
    "import pandas as pd\n",
    "from sklearn.model_selection import train_test_split\n",
    "from sklearn.linear_model import LogisticRegression\n",
    "from sklearn.svm import SVC\n",
    "from sklearn.naive_bayes import GaussianNB\n",
    "from sklearn.neighbors import KNeighborsClassifier\n",
    "from sklearn.tree import DecisionTreeClassifier\n",
    "from sklearn.ensemble import RandomForestClassifier\n",
    "from sklearn.preprocessing import StandardScaler\n",
    "import matplotlib.pyplot as plt"
   ]
  },
  {
   "cell_type": "code",
   "execution_count": null,
   "id": "a94ad9ad-b287-4022-81b4-d3509640dbb3",
   "metadata": {},
   "outputs": [],
   "source": [
    "# Load dataset\n",
    "df = pd.read_csv(\"Churn_Prediction_Preprocessed.csv\")\n",
    "df = pd.get_dummies(df, drop_first=True)"
   ]
  },
  {
   "cell_type": "code",
   "execution_count": null,
   "id": "c341b4af-ca44-4d20-9c85-7d534afcc39f",
   "metadata": {},
   "outputs": [],
   "source": [
    "df.head(3)"
   ]
  },
  {
   "cell_type": "code",
   "execution_count": null,
   "id": "739c2aea-f8b0-4ffd-8fa1-6f500dfc2034",
   "metadata": {},
   "outputs": [],
   "source": [
    "from sklearn.feature_selection import SequentialFeatureSelector\n",
    "\n",
    "def backward_select_features(X, y, estimator, k_features, cv=5):\n",
    "    sbs = SequentialFeatureSelector(estimator, n_features_to_select=k_features, direction='backward',cv=cv, n_jobs=-1)\n",
    "    sbs.fit(X, y)\n",
    "    selected_features = X.columns[sbs.get_support()]\n",
    "    return X[selected_features]"
   ]
  },
  {
   "cell_type": "code",
   "execution_count": null,
   "id": "28d66655-9f91-472c-98c5-ec6f986c2476",
   "metadata": {},
   "outputs": [],
   "source": [
    "X = df.drop(\"churn_flag\", axis=1)\n",
    "y = df[\"churn_flag\"]"
   ]
  },
  {
   "cell_type": "code",
   "execution_count": null,
   "id": "1a374178-e299-460c-bba5-7af759a009ce",
   "metadata": {},
   "outputs": [],
   "source": [
    "# Use Logistic Regression as base estimator for feature selection\n",
    "X_selected = backward_select_features(X, y, LogisticRegression(max_iter=1000), k_features=5, cv=3)"
   ]
  },
  {
   "cell_type": "code",
   "execution_count": null,
   "id": "3a1aec85-6de4-4f28-aec8-5668606d5cbb",
   "metadata": {},
   "outputs": [],
   "source": [
    "# Split and scale\n",
    "def split_scalar(indep_X, dep_Y):\n",
    "    X_train, X_test, y_train, y_test = train_test_split(indep_X, dep_Y, test_size=0.25, random_state=0)\n",
    "    sc = StandardScaler()\n",
    "    X_train = sc.fit_transform(X_train)\n",
    "    X_test = sc.transform(X_test)    \n",
    "    return X_train, X_test, y_train, y_test\n",
    "\n",
    "X_train, X_test, y_train, y_test = split_scalar(X_selected, y)"
   ]
  },
  {
   "cell_type": "code",
   "execution_count": null,
   "id": "2234600f-00a6-4173-8d77-c810d278e9ef",
   "metadata": {},
   "outputs": [],
   "source": [
    "def evaluate_model(classifier, X_train, y_train, X_test, y_test):\n",
    "    classifier.fit(X_train, y_train)\n",
    "    from sklearn.metrics import accuracy_score, classification_report, confusion_matrix\n",
    "    y_pred = classifier.predict(X_test)\n",
    "    acc = accuracy_score(y_test, y_pred)\n",
    "    report = classification_report(y_test, y_pred)\n",
    "    cm = confusion_matrix(y_test, y_pred)\n",
    "    return classifier, acc, report, cm"
   ]
  },
  {
   "cell_type": "code",
   "execution_count": null,
   "id": "38f419e5-76e5-41d1-87d2-2466f149336d",
   "metadata": {},
   "outputs": [],
   "source": [
    "# Store accuracy for each model\n",
    "accuracies = {}\n",
    "\n",
    "models = {\n",
    "    \"Logistic\": LogisticRegression(max_iter=1000),\n",
    "    \"SVM_Linear\": SVC(kernel='linear'),\n",
    "    \"SVM_RBF\": SVC(kernel='rbf'),\n",
    "    \"KNN\": KNeighborsClassifier(),\n",
    "    \"NaiveBayes\": GaussianNB(),\n",
    "    \"DecisionTree\": DecisionTreeClassifier(),\n",
    "    \"RandomForest\": RandomForestClassifier()\n",
    "}\n",
    "\n",
    "for name, model in models.items():\n",
    "    clf, acc, report, cm = evaluate_model(model, X_train, y_train, X_test, y_test)\n",
    "    accuracies[name] = acc\n",
    "    print(f\"{name} Accuracy: {acc:.4f}\")\n",
    "    # print(report)  # Optional\n",
    "\n",
    "# Convert to DataFrame\n",
    "result_df = pd.DataFrame([accuracies], index=[\"BackwardSelection\"])\n",
    "print(\"\\nModel Accuracy Comparison:\\n\")\n",
    "print(result_df)\n"
   ]
  },
  {
   "cell_type": "code",
   "execution_count": null,
   "id": "ab51368e-5029-4ce5-a3ab-5bf25a5ebd19",
   "metadata": {},
   "outputs": [],
   "source": [
    "result_df.T.plot(kind='bar', legend=False)\n",
    "plt.title(\"Model Accuracy after Backward Selection\")\n",
    "plt.ylabel(\"Accuracy\")\n",
    "plt.xticks(rotation=45)\n",
    "plt.tight_layout()\n",
    "plt.show()"
   ]
  },
  {
   "cell_type": "code",
   "execution_count": null,
   "id": "dc8e31ef-3f19-4674-8a1c-c3a0add4cf4d",
   "metadata": {},
   "outputs": [],
   "source": [
    "df.columns"
   ]
  },
  {
   "cell_type": "code",
   "execution_count": null,
   "id": "765088bf-6d5d-40e4-9306-6e32f4ec102e",
   "metadata": {},
   "outputs": [],
   "source": [
    "from sklearn.feature_selection import SequentialFeatureSelector\n",
    "from sklearn.preprocessing import StandardScaler\n",
    "from sklearn.linear_model import LogisticRegression\n",
    "scaler = StandardScaler()\n",
    "X_scaled = pd.DataFrame(scaler.fit_transform(X), columns=X.columns)\n",
    "estimator = LogisticRegression(max_iter=5000,solver='saga')\n",
    "sbs = SequentialFeatureSelector(estimator, n_features_to_select=5, direction='backward')\n",
    "sbs.fit(X_scaled, y)\n",
    "\n",
    "selected_feature_names = X.columns[sbs.get_support()]\n",
    "print(\"Selected features:\", list(selected_feature_names))"
   ]
  },
  {
   "cell_type": "code",
   "execution_count": null,
   "id": "aac16a90-5015-43ac-adbf-64916f00b889",
   "metadata": {},
   "outputs": [],
   "source": []
  }
 ],
 "metadata": {
  "kernelspec": {
   "display_name": "Python 3 (ipykernel)",
   "language": "python",
   "name": "python3"
  },
  "language_info": {
   "codemirror_mode": {
    "name": "ipython",
    "version": 3
   },
   "file_extension": ".py",
   "mimetype": "text/x-python",
   "name": "python",
   "nbconvert_exporter": "python",
   "pygments_lexer": "ipython3",
   "version": "3.12.4"
  }
 },
 "nbformat": 4,
 "nbformat_minor": 5
}
