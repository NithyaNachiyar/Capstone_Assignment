{
 "cells": [
  {
   "cell_type": "code",
   "execution_count": 6,
   "id": "9aae887b-b117-423e-9278-dc5f8aa64c0d",
   "metadata": {},
   "outputs": [],
   "source": [
    "import pandas as pd\n",
    "from sklearn.model_selection import train_test_split\n",
    "from sklearn.preprocessing import StandardScaler\n",
    "from sklearn.decomposition import PCA\n",
    "from sklearn.ensemble import RandomForestClassifier\n",
    "from sklearn.metrics import confusion_matrix, accuracy_score, classification_report\n",
    "from imblearn.over_sampling import SMOTE"
   ]
  },
  {
   "cell_type": "code",
   "execution_count": 2,
   "id": "30221d31-601b-4932-96a4-c12b913e20c5",
   "metadata": {},
   "outputs": [],
   "source": [
    "# 1. Load dataset and encode categorical variables\n",
    "dataset = pd.read_csv('Churn_Prediction_Preprocessed.csv')\n",
    "dataset = pd.get_dummies(dataset, drop_first=True)\n",
    "\n",
    "# 2. Define features and target\n",
    "X = dataset.drop('churn_flag', axis=1)\n",
    "y = dataset['churn_flag']\n",
    "\n",
    "# 3. Split dataset into train and test sets\n",
    "X_train, X_test, y_train, y_test = train_test_split(X, y, test_size=0.2, random_state=0)"
   ]
  },
  {
   "cell_type": "code",
   "execution_count": 3,
   "id": "468ad7eb-532e-44d5-837c-89d65f875de2",
   "metadata": {},
   "outputs": [
    {
     "name": "stdout",
     "output_type": "stream",
     "text": [
      "\n",
      "Original training set class distribution:\n",
      "churn_flag\n",
      "False    3590\n",
      "True      410\n",
      "Name: count, dtype: int64\n",
      "Resampled training set class distribution:\n",
      "churn_flag\n",
      "False    3590\n",
      "True     3590\n",
      "Name: count, dtype: int64\n"
     ]
    }
   ],
   "source": [
    "# 4. Apply SMOTE only to training data\n",
    "smote = SMOTE(random_state=0)\n",
    "X_train_resampled, y_train_resampled = smote.fit_resample(X_train, y_train)\n",
    "\n",
    "print(f\"\\nOriginal training set class distribution:\\n{y_train.value_counts()}\")\n",
    "print(f\"Resampled training set class distribution:\\n{pd.Series(y_train_resampled).value_counts()}\")"
   ]
  },
  {
   "cell_type": "code",
   "execution_count": 4,
   "id": "6b67a15d-e7be-436c-9e4e-6dc4131c84dc",
   "metadata": {},
   "outputs": [],
   "source": [
    "#def evaluate_logistic_regression_pca(n_components):\n",
    "# 5. Scale features (fit scaler on resampled training data)\n",
    "scaler = StandardScaler()\n",
    "X_train_scaled = scaler.fit_transform(X_train_resampled)\n",
    "X_test_scaled = scaler.transform(X_test)"
   ]
  },
  {
   "cell_type": "code",
   "execution_count": 29,
   "id": "1c096024-9516-485c-8ed7-d4cccb2f81fd",
   "metadata": {},
   "outputs": [],
   "source": [
    "# 6. Apply PCA\n",
    "pca = PCA(n_components=4)\n",
    "X_train_pca = pca.fit_transform(X_train_scaled)\n",
    "X_test_pca = pca.transform(X_test_scaled)\n",
    "    \n",
    "# 7. Train logistic regression\n",
    "clf = RandomForestClassifier(random_state=0, n_estimators=100)\n",
    "clf.fit(X_train_pca, y_train_resampled)\n",
    "    \n",
    "# 8. Predict on test set\n",
    "y_pred = clf.predict(X_test_pca)\n",
    "    \n",
    "# 9. Evaluate performance\n",
    "acc = accuracy_score(y_test, y_pred)\n",
    "cm = confusion_matrix(y_test, y_pred)\n",
    "cr = classification_report(y_test, y_pred)"
   ]
  },
  {
   "cell_type": "code",
   "execution_count": 12,
   "id": "a53c188a-137f-4292-a17b-da7c9aee2829",
   "metadata": {},
   "outputs": [
    {
     "name": "stdout",
     "output_type": "stream",
     "text": [
      "\n",
      "=== Random Forest with PCA (n_components=2) ===\n",
      "Accuracy: 0.8270\n",
      "Confusion Matrix:\n",
      "[[819 105]\n",
      " [ 68   8]]\n",
      "Classification Report:\n",
      "              precision    recall  f1-score   support\n",
      "\n",
      "       False       0.92      0.89      0.90       924\n",
      "        True       0.07      0.11      0.08        76\n",
      "\n",
      "    accuracy                           0.83      1000\n",
      "   macro avg       0.50      0.50      0.49      1000\n",
      "weighted avg       0.86      0.83      0.84      1000\n",
      "\n"
     ]
    }
   ],
   "source": [
    "# 10. Print results\n",
    "print(f\"\\n=== Random Forest with PCA (n_components=2) ===\")\n",
    "print(f\"Accuracy: {acc:.4f}\")\n",
    "print(\"Confusion Matrix:\")\n",
    "print(cm)\n",
    "print(\"Classification Report:\")\n",
    "print(cr)"
   ]
  },
  {
   "cell_type": "code",
   "execution_count": 28,
   "id": "a53f2d2c-3594-4c0d-9a3f-3c616d8a4d44",
   "metadata": {},
   "outputs": [
    {
     "name": "stdout",
     "output_type": "stream",
     "text": [
      "\n",
      "=== Random Forest with PCA (n_components=3) ===\n",
      "Accuracy: 0.8600\n",
      "Confusion Matrix:\n",
      "[[849  75]\n",
      " [ 65  11]]\n",
      "Classification Report:\n",
      "              precision    recall  f1-score   support\n",
      "\n",
      "       False       0.93      0.92      0.92       924\n",
      "        True       0.13      0.14      0.14        76\n",
      "\n",
      "    accuracy                           0.86      1000\n",
      "   macro avg       0.53      0.53      0.53      1000\n",
      "weighted avg       0.87      0.86      0.86      1000\n",
      "\n"
     ]
    }
   ],
   "source": [
    "# 10. Print results\n",
    "print(f\"\\n=== Random Forest with PCA (n_components=3) ===\")\n",
    "print(f\"Accuracy: {acc:.4f}\")\n",
    "print(\"Confusion Matrix:\")\n",
    "print(cm)\n",
    "print(\"Classification Report:\")\n",
    "print(cr)"
   ]
  },
  {
   "cell_type": "code",
   "execution_count": 31,
   "id": "836d1119-d7b9-4e6a-8002-44ba60b9daf7",
   "metadata": {},
   "outputs": [
    {
     "name": "stdout",
     "output_type": "stream",
     "text": [
      "\n",
      "=== Random Forest with PCA (n_components=4) ===\n",
      "Accuracy: 0.8730\n",
      "Confusion Matrix:\n",
      "[[866  58]\n",
      " [ 69   7]]\n",
      "Classification Report:\n",
      "              precision    recall  f1-score   support\n",
      "\n",
      "       False       0.93      0.94      0.93       924\n",
      "        True       0.11      0.09      0.10        76\n",
      "\n",
      "    accuracy                           0.87      1000\n",
      "   macro avg       0.52      0.51      0.52      1000\n",
      "weighted avg       0.86      0.87      0.87      1000\n",
      "\n"
     ]
    }
   ],
   "source": [
    "# 10. Print results\n",
    "print(f\"\\n=== Random Forest with PCA (n_components=4) ===\")\n",
    "print(f\"Accuracy: {acc:.4f}\")\n",
    "print(\"Confusion Matrix:\")\n",
    "print(cm)\n",
    "print(\"Classification Report:\")\n",
    "print(cr)"
   ]
  },
  {
   "cell_type": "code",
   "execution_count": 30,
   "id": "b87d80ee-5921-4d40-bc47-aa63147cd630",
   "metadata": {},
   "outputs": [
    {
     "name": "stdout",
     "output_type": "stream",
     "text": [
      "\n",
      "=== Random Forest with PCA (n_components=5) ===\n",
      "Accuracy: 0.8730\n",
      "Confusion Matrix:\n",
      "[[866  58]\n",
      " [ 69   7]]\n",
      "Classification Report:\n",
      "              precision    recall  f1-score   support\n",
      "\n",
      "       False       0.93      0.94      0.93       924\n",
      "        True       0.11      0.09      0.10        76\n",
      "\n",
      "    accuracy                           0.87      1000\n",
      "   macro avg       0.52      0.51      0.52      1000\n",
      "weighted avg       0.86      0.87      0.87      1000\n",
      "\n"
     ]
    }
   ],
   "source": [
    "# 10. Print results\n",
    "print(f\"\\n=== Random Forest with PCA (n_components=5) ===\")\n",
    "print(f\"Accuracy: {acc:.4f}\")\n",
    "print(\"Confusion Matrix:\")\n",
    "print(cm)\n",
    "print(\"Classification Report:\")\n",
    "print(cr)"
   ]
  },
  {
   "cell_type": "code",
   "execution_count": 24,
   "id": "410b7488-7ebf-4676-b73c-a431aa794ae1",
   "metadata": {},
   "outputs": [
    {
     "name": "stdout",
     "output_type": "stream",
     "text": [
      "\n",
      "=== Random Forest with PCA (n_components=5) ===\n",
      "Accuracy: 0.8800\n",
      "Confusion Matrix:\n",
      "[[874  50]\n",
      " [ 70   6]]\n",
      "Classification Report:\n",
      "              precision    recall  f1-score   support\n",
      "\n",
      "       False       0.93      0.95      0.94       924\n",
      "        True       0.11      0.08      0.09        76\n",
      "\n",
      "    accuracy                           0.88      1000\n",
      "   macro avg       0.52      0.51      0.51      1000\n",
      "weighted avg       0.86      0.88      0.87      1000\n",
      "\n"
     ]
    }
   ],
   "source": [
    "# 10. Print results\n",
    "print(f\"\\n=== Random Forest with PCA (n_components=5) ===\")\n",
    "print(f\"Accuracy: {acc:.4f}\")\n",
    "print(\"Confusion Matrix:\")\n",
    "print(cm)\n",
    "print(\"Classification Report:\")\n",
    "print(cr)"
   ]
  },
  {
   "cell_type": "code",
   "execution_count": 26,
   "id": "a6ccbbe2-cba2-4761-b299-f074dbec4a09",
   "metadata": {},
   "outputs": [
    {
     "name": "stdout",
     "output_type": "stream",
     "text": [
      "\n",
      "=== Random Forest with PCA (n_components=6) ===\n",
      "Accuracy: 0.8920\n",
      "Confusion Matrix:\n",
      "[[890  34]\n",
      " [ 74   2]]\n",
      "Classification Report:\n",
      "              precision    recall  f1-score   support\n",
      "\n",
      "       False       0.92      0.96      0.94       924\n",
      "        True       0.06      0.03      0.04        76\n",
      "\n",
      "    accuracy                           0.89      1000\n",
      "   macro avg       0.49      0.49      0.49      1000\n",
      "weighted avg       0.86      0.89      0.87      1000\n",
      "\n"
     ]
    }
   ],
   "source": [
    "# 10. Print results\n",
    "print(f\"\\n=== Random Forest with PCA (n_components=6) ===\")\n",
    "print(f\"Accuracy: {acc:.4f}\")\n",
    "print(\"Confusion Matrix:\")\n",
    "print(cm)\n",
    "print(\"Classification Report:\")\n",
    "print(cr)"
   ]
  },
  {
   "cell_type": "code",
   "execution_count": null,
   "id": "70224122-b693-4c16-9774-de23b2233c8d",
   "metadata": {},
   "outputs": [],
   "source": []
  }
 ],
 "metadata": {
  "kernelspec": {
   "display_name": "Python 3 (ipykernel)",
   "language": "python",
   "name": "python3"
  },
  "language_info": {
   "codemirror_mode": {
    "name": "ipython",
    "version": 3
   },
   "file_extension": ".py",
   "mimetype": "text/x-python",
   "name": "python",
   "nbconvert_exporter": "python",
   "pygments_lexer": "ipython3",
   "version": "3.12.4"
  }
 },
 "nbformat": 4,
 "nbformat_minor": 5
}
