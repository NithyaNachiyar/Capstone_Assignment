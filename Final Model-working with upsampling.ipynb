{
 "cells": [
  {
   "cell_type": "code",
   "execution_count": 1,
   "id": "9aae887b-b117-423e-9278-dc5f8aa64c0d",
   "metadata": {},
   "outputs": [],
   "source": [
    "import pandas as pd\n",
    "from sklearn.model_selection import train_test_split\n",
    "from sklearn.preprocessing import StandardScaler\n",
    "from sklearn.decomposition import PCA\n",
    "from sklearn.linear_model import LogisticRegression\n",
    "from sklearn.metrics import confusion_matrix, accuracy_score, classification_report\n",
    "from imblearn.over_sampling import SMOTE"
   ]
  },
  {
   "cell_type": "code",
   "execution_count": 2,
   "id": "30221d31-601b-4932-96a4-c12b913e20c5",
   "metadata": {},
   "outputs": [],
   "source": [
    "# 1. Load dataset and encode categorical variables\n",
    "dataset = pd.read_csv('Churn_Prediction_Preprocessed.csv')\n",
    "dataset = pd.get_dummies(dataset, drop_first=True)\n",
    "\n",
    "# 2. Define features and target\n",
    "X = dataset.drop('churn_flag', axis=1)\n",
    "y = dataset['churn_flag']\n",
    "\n",
    "# 3. Split dataset into train and test sets\n",
    "X_train, X_test, y_train, y_test = train_test_split(X, y, test_size=0.2, random_state=0)"
   ]
  },
  {
   "cell_type": "code",
   "execution_count": 3,
   "id": "468ad7eb-532e-44d5-837c-89d65f875de2",
   "metadata": {},
   "outputs": [
    {
     "name": "stdout",
     "output_type": "stream",
     "text": [
      "\n",
      "Original training set class distribution:\n",
      "churn_flag\n",
      "False    3590\n",
      "True      410\n",
      "Name: count, dtype: int64\n",
      "Resampled training set class distribution:\n",
      "churn_flag\n",
      "False    3590\n",
      "True     3590\n",
      "Name: count, dtype: int64\n"
     ]
    }
   ],
   "source": [
    "# 4. Apply SMOTE only to training data\n",
    "smote = SMOTE(random_state=0)\n",
    "X_train_resampled, y_train_resampled = smote.fit_resample(X_train, y_train)\n",
    "\n",
    "print(f\"\\nOriginal training set class distribution:\\n{y_train.value_counts()}\")\n",
    "print(f\"Resampled training set class distribution:\\n{pd.Series(y_train_resampled).value_counts()}\")"
   ]
  },
  {
   "cell_type": "code",
   "execution_count": 4,
   "id": "6b67a15d-e7be-436c-9e4e-6dc4131c84dc",
   "metadata": {},
   "outputs": [],
   "source": [
    "#def evaluate_logistic_regression_pca(n_components):\n",
    "# 5. Scale features (fit scaler on resampled training data)\n",
    "scaler = StandardScaler()\n",
    "X_train_scaled = scaler.fit_transform(X_train_resampled)\n",
    "X_test_scaled = scaler.transform(X_test)"
   ]
  },
  {
   "cell_type": "code",
   "execution_count": 13,
   "id": "1c096024-9516-485c-8ed7-d4cccb2f81fd",
   "metadata": {},
   "outputs": [],
   "source": [
    "# 6. Apply PCA\n",
    "pca = PCA(n_components=6)\n",
    "X_train_pca = pca.fit_transform(X_train_scaled)\n",
    "X_test_pca = pca.transform(X_test_scaled)\n",
    "    \n",
    "# 7. Train logistic regression\n",
    "clf = LogisticRegression(random_state=0, max_iter=1000)\n",
    "clf.fit(X_train_pca, y_train_resampled)\n",
    "    \n",
    "# 8. Predict on test set\n",
    "y_pred = clf.predict(X_test_pca)\n",
    "    \n",
    "# 9. Evaluate performance\n",
    "acc = accuracy_score(y_test, y_pred)\n",
    "cm = confusion_matrix(y_test, y_pred)\n",
    "cr = classification_report(y_test, y_pred)"
   ]
  },
  {
   "cell_type": "code",
   "execution_count": 6,
   "id": "a53c188a-137f-4292-a17b-da7c9aee2829",
   "metadata": {},
   "outputs": [
    {
     "name": "stdout",
     "output_type": "stream",
     "text": [
      "\n",
      "=== Logistic Regression with PCA (n_components=2) ===\n",
      "Accuracy: 0.4820\n",
      "Confusion Matrix:\n",
      "[[447 477]\n",
      " [ 41  35]]\n",
      "Classification Report:\n",
      "              precision    recall  f1-score   support\n",
      "\n",
      "       False       0.92      0.48      0.63       924\n",
      "        True       0.07      0.46      0.12        76\n",
      "\n",
      "    accuracy                           0.48      1000\n",
      "   macro avg       0.49      0.47      0.38      1000\n",
      "weighted avg       0.85      0.48      0.59      1000\n",
      "\n"
     ]
    }
   ],
   "source": [
    "# 10. Print results\n",
    "print(f\"\\n=== Logistic Regression with PCA (n_components=2) ===\")\n",
    "print(f\"Accuracy: {acc:.4f}\")\n",
    "print(\"Confusion Matrix:\")\n",
    "print(cm)\n",
    "print(\"Classification Report:\")\n",
    "print(cr)"
   ]
  },
  {
   "cell_type": "code",
   "execution_count": 8,
   "id": "a53f2d2c-3594-4c0d-9a3f-3c616d8a4d44",
   "metadata": {},
   "outputs": [
    {
     "name": "stdout",
     "output_type": "stream",
     "text": [
      "\n",
      "=== Logistic Regression with PCA (n_components=3) ===\n",
      "Accuracy: 0.4870\n",
      "Confusion Matrix:\n",
      "[[447 477]\n",
      " [ 36  40]]\n",
      "Classification Report:\n",
      "              precision    recall  f1-score   support\n",
      "\n",
      "       False       0.93      0.48      0.64       924\n",
      "        True       0.08      0.53      0.13        76\n",
      "\n",
      "    accuracy                           0.49      1000\n",
      "   macro avg       0.50      0.51      0.39      1000\n",
      "weighted avg       0.86      0.49      0.60      1000\n",
      "\n"
     ]
    }
   ],
   "source": [
    "# 10. Print results\n",
    "print(f\"\\n=== Logistic Regression with PCA (n_components=3) ===\")\n",
    "print(f\"Accuracy: {acc:.4f}\")\n",
    "print(\"Confusion Matrix:\")\n",
    "print(cm)\n",
    "print(\"Classification Report:\")\n",
    "print(cr)"
   ]
  },
  {
   "cell_type": "code",
   "execution_count": 10,
   "id": "836d1119-d7b9-4e6a-8002-44ba60b9daf7",
   "metadata": {},
   "outputs": [
    {
     "name": "stdout",
     "output_type": "stream",
     "text": [
      "\n",
      "=== Logistic Regression with PCA (n_components=4) ===\n",
      "Accuracy: 0.5010\n",
      "Confusion Matrix:\n",
      "[[466 458]\n",
      " [ 41  35]]\n",
      "Classification Report:\n",
      "              precision    recall  f1-score   support\n",
      "\n",
      "       False       0.92      0.50      0.65       924\n",
      "        True       0.07      0.46      0.12        76\n",
      "\n",
      "    accuracy                           0.50      1000\n",
      "   macro avg       0.50      0.48      0.39      1000\n",
      "weighted avg       0.85      0.50      0.61      1000\n",
      "\n"
     ]
    }
   ],
   "source": [
    "# 10. Print results\n",
    "print(f\"\\n=== Logistic Regression with PCA (n_components=4) ===\")\n",
    "print(f\"Accuracy: {acc:.4f}\")\n",
    "print(\"Confusion Matrix:\")\n",
    "print(cm)\n",
    "print(\"Classification Report:\")\n",
    "print(cr)"
   ]
  },
  {
   "cell_type": "code",
   "execution_count": 12,
   "id": "b87d80ee-5921-4d40-bc47-aa63147cd630",
   "metadata": {},
   "outputs": [
    {
     "name": "stdout",
     "output_type": "stream",
     "text": [
      "\n",
      "=== Logistic Regression with PCA (n_components=5) ===\n",
      "Accuracy: 0.5040\n",
      "Confusion Matrix:\n",
      "[[468 456]\n",
      " [ 40  36]]\n",
      "Classification Report:\n",
      "              precision    recall  f1-score   support\n",
      "\n",
      "       False       0.92      0.51      0.65       924\n",
      "        True       0.07      0.47      0.13        76\n",
      "\n",
      "    accuracy                           0.50      1000\n",
      "   macro avg       0.50      0.49      0.39      1000\n",
      "weighted avg       0.86      0.50      0.61      1000\n",
      "\n"
     ]
    }
   ],
   "source": [
    "# 10. Print results\n",
    "print(f\"\\n=== Logistic Regression with PCA (n_components=5) ===\")\n",
    "print(f\"Accuracy: {acc:.4f}\")\n",
    "print(\"Confusion Matrix:\")\n",
    "print(cm)\n",
    "print(\"Classification Report:\")\n",
    "print(cr)"
   ]
  },
  {
   "cell_type": "code",
   "execution_count": 14,
   "id": "a6ccbbe2-cba2-4761-b299-f074dbec4a09",
   "metadata": {},
   "outputs": [
    {
     "name": "stdout",
     "output_type": "stream",
     "text": [
      "\n",
      "=== Logistic Regression with PCA (n_components=6) ===\n",
      "Accuracy: 0.5180\n",
      "Confusion Matrix:\n",
      "[[482 442]\n",
      " [ 40  36]]\n",
      "Classification Report:\n",
      "              precision    recall  f1-score   support\n",
      "\n",
      "       False       0.92      0.52      0.67       924\n",
      "        True       0.08      0.47      0.13        76\n",
      "\n",
      "    accuracy                           0.52      1000\n",
      "   macro avg       0.50      0.50      0.40      1000\n",
      "weighted avg       0.86      0.52      0.63      1000\n",
      "\n"
     ]
    }
   ],
   "source": [
    "# 10. Print results\n",
    "print(f\"\\n=== Logistic Regression with PCA (n_components=6) ===\")\n",
    "print(f\"Accuracy: {acc:.4f}\")\n",
    "print(\"Confusion Matrix:\")\n",
    "print(cm)\n",
    "print(\"Classification Report:\")\n",
    "print(cr)"
   ]
  },
  {
   "cell_type": "code",
   "execution_count": null,
   "id": "410b7488-7ebf-4676-b73c-a431aa794ae1",
   "metadata": {},
   "outputs": [],
   "source": []
  }
 ],
 "metadata": {
  "kernelspec": {
   "display_name": "Python 3 (ipykernel)",
   "language": "python",
   "name": "python3"
  },
  "language_info": {
   "codemirror_mode": {
    "name": "ipython",
    "version": 3
   },
   "file_extension": ".py",
   "mimetype": "text/x-python",
   "name": "python",
   "nbconvert_exporter": "python",
   "pygments_lexer": "ipython3",
   "version": "3.12.4"
  }
 },
 "nbformat": 4,
 "nbformat_minor": 5
}
